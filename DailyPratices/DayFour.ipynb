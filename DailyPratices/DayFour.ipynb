{
 "cells": [
  {
   "cell_type": "markdown",
   "metadata": {},
   "source": [
    "# 图形用户界面和游戏开发\n",
    "GUI是图形用户界面的缩写，图形化的用户界面对使用过计算机的人来说应该都不陌生，在此也无需进行赘述。Python默认的GUI开发模块是tkinter（在Python 3以前的版本中名为Tkinter），从这个名字就可以看出它是基于Tk的，Tk是一个工具包，最初是为Tcl设计的，后来被移植到很多其他的脚本语言中，它提供了跨平台的GUI控件。当然Tk并不是最新和最好的选择，也没有功能特别强大的GUI控件，事实上，开发GUI应用并不是Python最擅长的工作，如果真的需要使用Python开发GUI应用，wxPython、PyQt、PyGTK等模块都是不错的选择。\n",
    "\n",
    "基本上使用tkinter来开发GUI应用需要以下5个步骤：\n",
    "\n",
    "导入tkinter模块中我们需要的东西。\n",
    "创建一个顶层窗口对象并用它来承载整个GUI应用。\n",
    "在顶层窗口对象上添加GUI组件。\n",
    "通过代码将这些GUI组件的功能组织起来。\n",
    "进入主事件循环(main loop)。"
   ]
  },
  {
   "cell_type": "code",
   "execution_count": 1,
   "metadata": {},
   "outputs": [],
   "source": [
    "import tkinter\n",
    "import tkinter.messagebox\n",
    "def main():\n",
    "    flag = True\n",
    "\n",
    "    # 修改标签上的文字\n",
    "    def change_label_text():\n",
    "        nonlocal flag\n",
    "        flag = not flag\n",
    "        color, msg = ('red', 'Hello, world!')\\\n",
    "            if flag else ('blue', 'Goodbye, world!')\n",
    "        label.config(text=msg, fg=color)\n",
    "\n",
    "    # 确认退出\n",
    "    def confirm_to_quit():\n",
    "        if tkinter.messagebox.askokcancel('温馨提示', '确定要退出吗?'):\n",
    "            top.quit()\n",
    "\n",
    "    # 创建顶层窗口\n",
    "    top = tkinter.Tk()\n",
    "    # 设置窗口大小\n",
    "    top.geometry('240x160')\n",
    "    # 设置窗口标题\n",
    "    top.title('小游戏')\n",
    "    # 创建标签对象并添加到顶层窗口\n",
    "    label = tkinter.Label(top, text='Hello, world!', font='Arial -32', fg='red')\n",
    "    label.pack(expand=1)\n",
    "    # 创建一个装按钮的容器\n",
    "    panel = tkinter.Frame(top)\n",
    "    # 创建按钮对象 指定添加到哪个容器中 通过command参数绑定事件回调函数\n",
    "    button1 = tkinter.Button(panel, text='修改', command=change_label_text)\n",
    "    button1.pack(side='left')\n",
    "    button2 = tkinter.Button(panel, text='退出', command=confirm_to_quit)\n",
    "    button2.pack(side='right')\n",
    "    panel.pack(side='bottom')\n",
    "    # 开启主事件循环\n",
    "    tkinter.mainloop()\n",
    "\n",
    "\n",
    "if __name__ == '__main__':\n",
    "    main()\n"
   ]
  },
  {
   "cell_type": "markdown",
   "metadata": {},
   "source": [
    "# 使用Pygame进行游戏开发\n",
    "Pygame是一个开源的Python模块，专门用于多媒体应用（如电子游戏）的开发，其中包含对图像、声音、视频、事件、碰撞等的支持。Pygame建立在SDL的基础上，SDL是一套跨平台的多媒体开发库，用C语言实现，被广泛的应用于游戏、模拟器、播放器等的开发。而Pygame让游戏开发者不再被底层语言束缚，可以更多的关注游戏的功能和逻辑。\n",
    "\n",
    "下面我们来完成一个简单的小游戏，游戏的名字叫“大球吃小球”，当然完成这个游戏并不是重点，学会使用Pygame也不是重点，最重要的我们要在这个过程中体会如何使用前面讲解的面向对象程序设计，学会用这种编程思想去解决现实中的问题。"
   ]
  },
  {
   "cell_type": "code",
   "execution_count": 4,
   "metadata": {},
   "outputs": [
    {
     "ename": "ModuleNotFoundError",
     "evalue": "No module named 'pygame'",
     "output_type": "error",
     "traceback": [
      "\u001b[1;31m---------------------------------------------------------------------------\u001b[0m",
      "\u001b[1;31mModuleNotFoundError\u001b[0m                       Traceback (most recent call last)",
      "Cell \u001b[1;32mIn[4], line 1\u001b[0m\n\u001b[1;32m----> 1\u001b[0m \u001b[39mimport\u001b[39;00m \u001b[39mpygame\u001b[39;00m\n\u001b[0;32m      4\u001b[0m \u001b[39mdef\u001b[39;00m \u001b[39mmain\u001b[39m():\n\u001b[0;32m      5\u001b[0m     \u001b[39m# 初始化导入的pygame中的模块\u001b[39;00m\n\u001b[0;32m      6\u001b[0m     pygame\u001b[39m.\u001b[39minit()\n",
      "\u001b[1;31mModuleNotFoundError\u001b[0m: No module named 'pygame'"
     ]
    }
   ],
   "source": [
    "import pygame\n",
    "\n",
    "\n",
    "def main():\n",
    "    # 初始化导入的pygame中的模块\n",
    "    pygame.init()\n",
    "    # 初始化用于显示的窗口并设置窗口尺寸\n",
    "    screen = pygame.display.set_mode((800, 600))\n",
    "    # 设置当前窗口的标题\n",
    "    pygame.display.set_caption('大球吃小球')\n",
    "    running = True\n",
    "    # 开启一个事件循环处理发生的事件\n",
    "    while running:\n",
    "        # 从消息队列中获取事件并对事件进行处理\n",
    "        for event in pygame.event.get():\n",
    "            if event.type == pygame.QUIT:\n",
    "                running = False\n",
    "\n",
    "\n",
    "if __name__ == '__main__':\n",
    "    main()"
   ]
  }
 ],
 "metadata": {
  "kernelspec": {
   "display_name": "Python 3",
   "language": "python",
   "name": "python3"
  },
  "language_info": {
   "codemirror_mode": {
    "name": "ipython",
    "version": 3
   },
   "file_extension": ".py",
   "mimetype": "text/x-python",
   "name": "python",
   "nbconvert_exporter": "python",
   "pygments_lexer": "ipython3",
   "version": "3.8.0"
  },
  "orig_nbformat": 4
 },
 "nbformat": 4,
 "nbformat_minor": 2
}
