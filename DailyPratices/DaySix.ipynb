{
 "cells": [
  {
   "cell_type": "code",
   "execution_count": 3,
   "metadata": {},
   "outputs": [
    {
     "name": "stdout",
     "output_type": "stream",
     "text": [
      "开始下载Python从入门到住院.pdf...\n",
      "Python从入门到住院.pdf下载完成! 耗费了10秒\n",
      "开始下载Peking Hot.avi...\n",
      "Peking Hot.avi下载完成! 耗费了8秒\n",
      "总共耗费了18.00秒.\n"
     ]
    }
   ],
   "source": [
    "#线程和进程\n",
    "#单线程\n",
    "from random import randint\n",
    "from time import time, sleep\n",
    "\n",
    "\n",
    "def download_task(filename):\n",
    "    print('开始下载%s...' % filename)\n",
    "    time_to_download = randint(1, 6)\n",
    "    sleep(time_to_download)\n",
    "    print('%s下载完成! 耗费了%d秒' % (filename, time_to_download))\n",
    "\n",
    "\n",
    "def main():\n",
    "    start = time()\n",
    "    download_task('Python从入门到住院.pdf')\n",
    "    download_task('Peking Hot.avi')\n",
    "    end = time()\n",
    "    print('总共耗费了%.2f秒.' % (end - start))\n",
    "\n",
    "\n",
    "if __name__ == '__main__':\n",
    "    main()"
   ]
  },
  {
   "cell_type": "code",
   "execution_count": 5,
   "metadata": {},
   "outputs": [
    {
     "name": "stdout",
     "output_type": "stream",
     "text": [
      "总共耗费了0.11秒.\n"
     ]
    }
   ],
   "source": [
    "# 多线程\n",
    "# 通过process方法实现多线程。Windows下不支持\n",
    "from multiprocessing import Process\n",
    "from os import getpid\n",
    "from random import randint\n",
    "from time import time, sleep\n",
    "\n",
    "\n",
    "def download_task(filename):\n",
    "    print('启动下载进程，进程号[%d].' % getpid())\n",
    "    print('开始下载%s...' % filename)\n",
    "    time_to_download = randint(5, 10)\n",
    "    sleep(time_to_download)\n",
    "    print('%s下载完成! 耗费了%d秒' % (filename, time_to_download))\n",
    "\n",
    "\n",
    "def main():\n",
    "    start = time()\n",
    "    p1 = Process(target=download_task, args=('Python从入门到住院.pdf', ))\n",
    "    p1.start()\n",
    "    p2 = Process(target=download_task, args=('Peking Hot.avi', ))\n",
    "    p2.start()\n",
    "    p1.join()\n",
    "    p2.join()\n",
    "    end = time()\n",
    "    print('总共耗费了%.2f秒.' % (end - start))\n",
    "\n",
    "\n",
    "if __name__ == '__main__':\n",
    "    main()"
   ]
  },
  {
   "cell_type": "code",
   "execution_count": 7,
   "metadata": {},
   "outputs": [],
   "source": [
    "# 线程的执行次数\n",
    "# 下面的函数并不能控制两个线程合计执行10次。\n",
    "# 要解决这个问题比较简单的办法是使用multiprocessing模块中的Queue类\n",
    "from multiprocessing import Process\n",
    "from time import sleep\n",
    "\n",
    "counter = 0\n",
    "\n",
    "\n",
    "def sub_task(string):\n",
    "    global counter\n",
    "    while counter < 10:\n",
    "        print(string, end='', flush=True)\n",
    "        counter += 1\n",
    "        sleep(0.01)\n",
    "\n",
    "        \n",
    "def main():\n",
    "    Process(target=sub_task, args=('Ping', )).start()\n",
    "    Process(target=sub_task, args=('Pong', )).start()\n",
    "\n",
    "\n",
    "if __name__ == '__main__':\n",
    "    main()"
   ]
  },
  {
   "cell_type": "code",
   "execution_count": 9,
   "metadata": {},
   "outputs": [
    {
     "name": "stdout",
     "output_type": "stream",
     "text": [
      "Begin to download Python从入门到住院.pdf\n",
      "Begin to download Peking Hot.avi\n",
      "download completed,occupy 3 seconds\n",
      "download completed,occupy 6 seconds\n",
      "总共耗费了6.004秒\n"
     ]
    }
   ],
   "source": [
    "#多线程\n",
    "# 通过Thread 实现多线程\n",
    "from random import randint\n",
    "from threading import Thread\n",
    "from time import time, sleep\n",
    "\n",
    "\n",
    "def download(filename):\n",
    "    print('Begin to download %s' % filename)\n",
    "    elaps_time=randint(3,8)\n",
    "    sleep(elaps_time)\n",
    "    print('download completed,has consumed %d seconds' % elaps_time)\n",
    "\n",
    "\n",
    "def main():\n",
    "    start=time()\n",
    "    #start = time()\n",
    "    t1 = Thread(target=download, args=('Python从入门到住院.pdf',))\n",
    "    t1.start()\n",
    "    t2 = Thread(target=download, args=('Peking Hot.avi',))\n",
    "    t2.start()\n",
    "    t1.join()\n",
    "    t2.join()\n",
    "    end = time()\n",
    "    print('总共耗费了%.3f秒' % (end - start))\n",
    "\n",
    "\n",
    "if __name__ == '__main__':\n",
    "    main()"
   ]
  },
  {
   "cell_type": "code",
   "execution_count": 12,
   "metadata": {},
   "outputs": [
    {
     "name": "stdout",
     "output_type": "stream",
     "text": [
      "Begin to download Python从入门到住院.pdf\n",
      "Begin to download how to pass a interview.pdf\n",
      "how to pass a interview.pdf download completed,has consumed 7 seconds\n",
      "Python从入门到住院.pdf download completed,has consumed 8 seconds\n",
      "total time is 8.003484725952148\n"
     ]
    }
   ],
   "source": [
    "#多线程\n",
    "# 通过 继承 Thread 类下载\n",
    "from random  import randint\n",
    "from threading import Thread\n",
    "import time as tm\n",
    "class DownloadTask(Thread):\n",
    "    def __init__(self,filename):\n",
    "        super().__init__()\n",
    "        self._filename=filename\n",
    "    def run(self):\n",
    "        print('Begin to download %s' % self._filename)\n",
    "        elaps_time=randint(3,8)\n",
    "        sleep(elaps_time)\n",
    "        print('%s download completed,has consumed %d seconds' % (self._filename,elaps_time))\n",
    "def main():\n",
    "    start=time()\n",
    "    t1=DownloadTask('Python从入门到住院.pdf')\n",
    "    t2=DownloadTask('how to pass a interview.pdf')\n",
    "    t1.start()\n",
    "    t2.start()\n",
    "    t1.join()\n",
    "    t2.join()\n",
    "    end=time()\n",
    "    print(f'total time is {end-start}')\n",
    "main()"
   ]
  },
  {
   "cell_type": "code",
   "execution_count": null,
   "metadata": {},
   "outputs": [],
   "source": [
    "# 线程锁\n"
   ]
  }
 ],
 "metadata": {
  "kernelspec": {
   "display_name": "Python 3",
   "language": "python",
   "name": "python3"
  },
  "language_info": {
   "codemirror_mode": {
    "name": "ipython",
    "version": 3
   },
   "file_extension": ".py",
   "mimetype": "text/x-python",
   "name": "python",
   "nbconvert_exporter": "python",
   "pygments_lexer": "ipython3",
   "version": "3.11.4"
  },
  "orig_nbformat": 4
 },
 "nbformat": 4,
 "nbformat_minor": 2
}
