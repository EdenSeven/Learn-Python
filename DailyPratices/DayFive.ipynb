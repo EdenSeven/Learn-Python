{
 "cells": [
  {
   "cell_type": "markdown",
   "metadata": {},
   "source": [
    "# 文件和异常\n",
    "实际开发中常常会遇到对数据进行持久化操作的场景，而实现数据持久化最直接简单的方式就是将数据保存到文件中。说到“文件”这个词，可能需要先科普一下关于文件系统的知识，但是这里我们并不浪费笔墨介绍这个概念，请大家自行通过维基百科进行了解。\n",
    "\n",
    "在Python中实现文件的读写操作其实非常简单，通过Python内置的open函数，我们可以指定文件名、操作模式、编码信息等来获得操作文件的对象，接下来就可以对文件进行读写操作了。这里所说的操作模式是指要打开什么样的文件（字符文件还是二进制文件）以及做什么样的操作（读、写还是追加），具体的如下表所示。\n",
    "操作模式\t具体含义\n",
    "\n",
    "'r'\t读取 （默认）\n",
    "'w'\t写入（会先截断之前的内容）\n",
    "'x'\t写入，如果文件已经存在会产生异常\n",
    "'a'\t追加，将内容写入到已有文件的末尾\n",
    "'b'\t二进制模式\n",
    "'t'\t文本模式（默认）\n",
    "'+'\t更新（既可以读又可以写）"
   ]
  },
  {
   "cell_type": "code",
   "execution_count": 1,
   "metadata": {},
   "outputs": [
    {
     "ename": "FileNotFoundError",
     "evalue": "[Errno 2] No such file or directory: '致橡树.txt'",
     "output_type": "error",
     "traceback": [
      "\u001b[1;31m---------------------------------------------------------------------------\u001b[0m",
      "\u001b[1;31mFileNotFoundError\u001b[0m                         Traceback (most recent call last)",
      "Cell \u001b[1;32mIn[1], line 9\u001b[0m\n\u001b[0;32m      5\u001b[0m     f\u001b[39m.\u001b[39mclose()\n\u001b[0;32m      8\u001b[0m \u001b[39mif\u001b[39;00m \u001b[39m__name__\u001b[39m \u001b[39m==\u001b[39m \u001b[39m'\u001b[39m\u001b[39m__main__\u001b[39m\u001b[39m'\u001b[39m:\n\u001b[1;32m----> 9\u001b[0m     main()\n",
      "Cell \u001b[1;32mIn[1], line 3\u001b[0m, in \u001b[0;36mmain\u001b[1;34m()\u001b[0m\n\u001b[0;32m      2\u001b[0m \u001b[39mdef\u001b[39;00m \u001b[39mmain\u001b[39m():\n\u001b[1;32m----> 3\u001b[0m     f \u001b[39m=\u001b[39m \u001b[39mopen\u001b[39;49m(\u001b[39m'\u001b[39;49m\u001b[39m致橡树.txt\u001b[39;49m\u001b[39m'\u001b[39;49m, \u001b[39m'\u001b[39;49m\u001b[39mr\u001b[39;49m\u001b[39m'\u001b[39;49m, encoding\u001b[39m=\u001b[39;49m\u001b[39m'\u001b[39;49m\u001b[39mutf-8\u001b[39;49m\u001b[39m'\u001b[39;49m)\n\u001b[0;32m      4\u001b[0m     \u001b[39mprint\u001b[39m(f\u001b[39m.\u001b[39mread())\n\u001b[0;32m      5\u001b[0m     f\u001b[39m.\u001b[39mclose()\n",
      "File \u001b[1;32mc:\\Users\\fupos\\AppData\\Local\\Programs\\Python\\Python38\\lib\\site-packages\\IPython\\core\\interactiveshell.py:282\u001b[0m, in \u001b[0;36m_modified_open\u001b[1;34m(file, *args, **kwargs)\u001b[0m\n\u001b[0;32m    275\u001b[0m \u001b[39mif\u001b[39;00m file \u001b[39min\u001b[39;00m {\u001b[39m0\u001b[39m, \u001b[39m1\u001b[39m, \u001b[39m2\u001b[39m}:\n\u001b[0;32m    276\u001b[0m     \u001b[39mraise\u001b[39;00m \u001b[39mValueError\u001b[39;00m(\n\u001b[0;32m    277\u001b[0m         \u001b[39mf\u001b[39m\u001b[39m\"\u001b[39m\u001b[39mIPython won\u001b[39m\u001b[39m'\u001b[39m\u001b[39mt let you open fd=\u001b[39m\u001b[39m{\u001b[39;00mfile\u001b[39m}\u001b[39;00m\u001b[39m by default \u001b[39m\u001b[39m\"\u001b[39m\n\u001b[0;32m    278\u001b[0m         \u001b[39m\"\u001b[39m\u001b[39mas it is likely to crash IPython. If you know what you are doing, \u001b[39m\u001b[39m\"\u001b[39m\n\u001b[0;32m    279\u001b[0m         \u001b[39m\"\u001b[39m\u001b[39myou can use builtins\u001b[39m\u001b[39m'\u001b[39m\u001b[39m open.\u001b[39m\u001b[39m\"\u001b[39m\n\u001b[0;32m    280\u001b[0m     )\n\u001b[1;32m--> 282\u001b[0m \u001b[39mreturn\u001b[39;00m io_open(file, \u001b[39m*\u001b[39;49margs, \u001b[39m*\u001b[39;49m\u001b[39m*\u001b[39;49mkwargs)\n",
      "\u001b[1;31mFileNotFoundError\u001b[0m: [Errno 2] No such file or directory: '致橡树.txt'"
     ]
    }
   ],
   "source": [
    "# 读取文本文件\n",
    "def main():\n",
    "    f = open('致橡树.txt', 'r', encoding='utf-8')\n",
    "    print(f.read())\n",
    "    f.close()\n",
    "\n",
    "\n",
    "if __name__ == '__main__':\n",
    "    main()"
   ]
  },
  {
   "cell_type": "code",
   "execution_count": 5,
   "metadata": {},
   "outputs": [
    {
     "name": "stdout",
     "output_type": "stream",
     "text": [
      "无法打开指定的文件!\n"
     ]
    }
   ],
   "source": [
    "# 通过catch异常防止报错\n",
    "def main():\n",
    "    f =None\n",
    "    try:\n",
    "        f = open('致橡树.txt', 'r', encoding='utf-8')\n",
    "        print(f.read())\n",
    "    except FileNotFoundError:\n",
    "        print('无法打开指定的文件!')\n",
    "    except LookupError:\n",
    "        print('指定了未知的编码!')\n",
    "    except UnicodeDecodeError:\n",
    "        print('读取文件时解码错误!')\n",
    "    finally:\n",
    "        if f:\n",
    "            f.close()\n",
    "\n",
    "\n",
    "if __name__ == '__main__':\n",
    "    main()"
   ]
  },
  {
   "cell_type": "code",
   "execution_count": 7,
   "metadata": {},
   "outputs": [
    {
     "name": "stdout",
     "output_type": "stream",
     "text": [
      "无法打开指定的文件!\n"
     ]
    }
   ],
   "source": [
    "#如果不愿意在finally代码块中关闭文件对象释放资源，也可以使用上下文语法，通过with关键字指定文件对象的上下文环境并在离开上下文环境时自动释放文件资源，代码如下所示。\n",
    "def main():\n",
    "    try:\n",
    "        with open('致橡树.txt', 'r', encoding='utf-8') as f:\n",
    "            print(f.read())\n",
    "    except FileNotFoundError:\n",
    "        print('无法打开指定的文件!')\n",
    "    except LookupError:\n",
    "        print('指定了未知的编码!')\n",
    "    except UnicodeDecodeError:\n",
    "        print('读取文件时解码错误!')\n",
    "\n",
    "\n",
    "if __name__ == '__main__':\n",
    "    main()"
   ]
  },
  {
   "cell_type": "code",
   "execution_count": 9,
   "metadata": {},
   "outputs": [
    {
     "ename": "FileNotFoundError",
     "evalue": "[Errno 2] No such file or directory: '致橡树.txt'",
     "output_type": "error",
     "traceback": [
      "\u001b[1;31m---------------------------------------------------------------------------\u001b[0m",
      "\u001b[1;31mFileNotFoundError\u001b[0m                         Traceback (most recent call last)",
      "Cell \u001b[1;32mIn[9], line 24\u001b[0m\n\u001b[0;32m     20\u001b[0m     \u001b[39mprint\u001b[39m(lines)\n\u001b[0;32m     23\u001b[0m \u001b[39mif\u001b[39;00m \u001b[39m__name__\u001b[39m \u001b[39m==\u001b[39m \u001b[39m'\u001b[39m\u001b[39m__main__\u001b[39m\u001b[39m'\u001b[39m:\n\u001b[1;32m---> 24\u001b[0m     main()\n",
      "Cell \u001b[1;32mIn[9], line 7\u001b[0m, in \u001b[0;36mmain\u001b[1;34m()\u001b[0m\n\u001b[0;32m      5\u001b[0m \u001b[39mdef\u001b[39;00m \u001b[39mmain\u001b[39m():\n\u001b[0;32m      6\u001b[0m     \u001b[39m# 一次性读取整个文件内容\u001b[39;00m\n\u001b[1;32m----> 7\u001b[0m     \u001b[39mwith\u001b[39;00m \u001b[39mopen\u001b[39;49m(\u001b[39m'\u001b[39;49m\u001b[39m致橡树.txt\u001b[39;49m\u001b[39m'\u001b[39;49m, \u001b[39m'\u001b[39;49m\u001b[39mr\u001b[39;49m\u001b[39m'\u001b[39;49m, encoding\u001b[39m=\u001b[39;49m\u001b[39m'\u001b[39;49m\u001b[39mutf-8\u001b[39;49m\u001b[39m'\u001b[39;49m) \u001b[39mas\u001b[39;00m f:\n\u001b[0;32m      8\u001b[0m         \u001b[39mprint\u001b[39m(f\u001b[39m.\u001b[39mread())\n\u001b[0;32m     10\u001b[0m     \u001b[39m# 通过for-in循环逐行读取\u001b[39;00m\n",
      "File \u001b[1;32mc:\\Users\\fupos\\AppData\\Local\\Programs\\Python\\Python38\\lib\\site-packages\\IPython\\core\\interactiveshell.py:282\u001b[0m, in \u001b[0;36m_modified_open\u001b[1;34m(file, *args, **kwargs)\u001b[0m\n\u001b[0;32m    275\u001b[0m \u001b[39mif\u001b[39;00m file \u001b[39min\u001b[39;00m {\u001b[39m0\u001b[39m, \u001b[39m1\u001b[39m, \u001b[39m2\u001b[39m}:\n\u001b[0;32m    276\u001b[0m     \u001b[39mraise\u001b[39;00m \u001b[39mValueError\u001b[39;00m(\n\u001b[0;32m    277\u001b[0m         \u001b[39mf\u001b[39m\u001b[39m\"\u001b[39m\u001b[39mIPython won\u001b[39m\u001b[39m'\u001b[39m\u001b[39mt let you open fd=\u001b[39m\u001b[39m{\u001b[39;00mfile\u001b[39m}\u001b[39;00m\u001b[39m by default \u001b[39m\u001b[39m\"\u001b[39m\n\u001b[0;32m    278\u001b[0m         \u001b[39m\"\u001b[39m\u001b[39mas it is likely to crash IPython. If you know what you are doing, \u001b[39m\u001b[39m\"\u001b[39m\n\u001b[0;32m    279\u001b[0m         \u001b[39m\"\u001b[39m\u001b[39myou can use builtins\u001b[39m\u001b[39m'\u001b[39m\u001b[39m open.\u001b[39m\u001b[39m\"\u001b[39m\n\u001b[0;32m    280\u001b[0m     )\n\u001b[1;32m--> 282\u001b[0m \u001b[39mreturn\u001b[39;00m io_open(file, \u001b[39m*\u001b[39;49margs, \u001b[39m*\u001b[39;49m\u001b[39m*\u001b[39;49mkwargs)\n",
      "\u001b[1;31mFileNotFoundError\u001b[0m: [Errno 2] No such file or directory: '致橡树.txt'"
     ]
    }
   ],
   "source": [
    "# 文件的逐行读取\n",
    "import time\n",
    "\n",
    "\n",
    "def main():\n",
    "    # 一次性读取整个文件内容\n",
    "    with open('致橡树.txt', 'r', encoding='utf-8') as f:\n",
    "        print(f.read())\n",
    "\n",
    "    # 通过for-in循环逐行读取\n",
    "    with open('致橡树.txt', mode='r') as f:\n",
    "        for line in f:\n",
    "            print(line, end='')\n",
    "            time.sleep(0.5)\n",
    "    print()\n",
    "\n",
    "    # 读取文件按行读取到列表中\n",
    "    with open('致橡树.txt') as f:\n",
    "        lines = f.readlines()\n",
    "    print(lines)\n",
    "    \n",
    "\n",
    "if __name__ == '__main__':\n",
    "    main()"
   ]
  },
  {
   "cell_type": "code",
   "execution_count": 11,
   "metadata": {},
   "outputs": [
    {
     "name": "stdout",
     "output_type": "stream",
     "text": [
      "操作完成!\n"
     ]
    }
   ],
   "source": [
    "#文本的写入\n",
    "from math import sqrt\n",
    "\n",
    "\n",
    "def is_prime(n):\n",
    "    \"\"\"判断素数的函数\"\"\"\n",
    "    assert n > 0\n",
    "    for factor in range(2, int(sqrt(n)) + 1):\n",
    "        if n % factor == 0:\n",
    "            return False\n",
    "    return True if n != 1 else False\n",
    "\n",
    "\n",
    "def main():\n",
    "    filenames = ('D:\\\\a.txt', 'D:\\\\b.txt', 'D:\\\\c.txt')\n",
    "    fs_list = []\n",
    "    try:\n",
    "        for filename in filenames:\n",
    "            fs_list.append(open(filename, 'w', encoding='utf-8')) #文件流作为一个列表\n",
    "        for number in range(1, 10000):\n",
    "            if is_prime(number):\n",
    "                if number < 100:\n",
    "                    fs_list[0].write(str(number) + '\\n')\n",
    "                elif number < 1000:\n",
    "                    fs_list[1].write(str(number) + '\\n')\n",
    "                else:\n",
    "                    fs_list[2].write(str(number) + '\\n')\n",
    "    except IOError as ex:\n",
    "        print(ex)\n",
    "        print('写文件时发生错误!')\n",
    "    finally:\n",
    "        for fs in fs_list:\n",
    "            fs.close()\n",
    "    print('操作完成!')\n",
    "\n",
    "\n",
    "if __name__ == '__main__':\n",
    "    main()"
   ]
  },
  {
   "cell_type": "code",
   "execution_count": 15,
   "metadata": {},
   "outputs": [
    {
     "name": "stdout",
     "output_type": "stream",
     "text": [
      "Save Complete\n"
     ]
    },
    {
     "data": {
      "text/plain": [
       "'\\njson模块主要有四个比较重要的函数，分别是：\\n\\ndump - 将Python对象按照JSON格式序列化到文件中\\ndumps - 将Python对象处理成JSON格式的字符串\\nload - 将文件中的JSON数据反序列化成对象\\nloads - 将字符串的内容反序列化成Python对象 \\n'"
      ]
     },
     "execution_count": 15,
     "metadata": {},
     "output_type": "execute_result"
    }
   ],
   "source": [
    "#json的读取\n",
    "import json\n",
    "def main():\n",
    "    mydict = {\n",
    "        'name': '骆昊',\n",
    "        'age': 38,\n",
    "        'qq': 957658,\n",
    "        'friends': ['王大锤', '白元芳'],\n",
    "        'cars': [\n",
    "            {'brand': 'BYD', 'max_speed': 180},\n",
    "            {'brand': 'Audi', 'max_speed': 280},\n",
    "            {'brand': 'Benz', 'max_speed': 320}\n",
    "        ]\n",
    "    }\n",
    "    try:\n",
    "        with open(r'D:\\1.txt',mode='w',encoding='utf-8') as fs:\n",
    "            json.dump(mydict,fs)\n",
    "    except IOError as e:\n",
    "        print(e)\n",
    "    print('Save Complete')\n",
    "\n",
    "if __name__ == '__main__':\n",
    "    main()  \n",
    "\"\"\"\n",
    "json模块主要有四个比较重要的函数，分别是：\n",
    "\n",
    "dump - 将Python对象按照JSON格式序列化到文件中\n",
    "dumps - 将Python对象处理成JSON格式的字符串\n",
    "load - 将文件中的JSON数据反序列化成对象\n",
    "loads - 将字符串的内容反序列化成Python对象 \n",
    "\"\"\""
   ]
  }
 ],
 "metadata": {
  "kernelspec": {
   "display_name": "Python 3",
   "language": "python",
   "name": "python3"
  },
  "language_info": {
   "codemirror_mode": {
    "name": "ipython",
    "version": 3
   },
   "file_extension": ".py",
   "mimetype": "text/x-python",
   "name": "python",
   "nbconvert_exporter": "python",
   "pygments_lexer": "ipython3",
   "version": "3.8.0"
  },
  "orig_nbformat": 4
 },
 "nbformat": 4,
 "nbformat_minor": 2
}
