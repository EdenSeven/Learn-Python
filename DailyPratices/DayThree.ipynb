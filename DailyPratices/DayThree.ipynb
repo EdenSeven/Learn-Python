{
 "cells": [
  {
   "cell_type": "code",
   "execution_count": 9,
   "metadata": {},
   "outputs": [
    {
     "name": "stdout",
     "output_type": "stream",
     "text": [
      "(3,5)\n",
      "(0,0)\n",
      "(-1,2)\n",
      "5.0\n"
     ]
    }
   ],
   "source": [
    "#练习：定义一个类描述平面上的点并提供移动点和计算到另外一个点距离的方法\n",
    "from math import sqrt\n",
    "class Point():\n",
    "    def __init__(self,x=0,y=0) -> None:\n",
    "        self._x=x\n",
    "        self._y=y\n",
    "    def move_to(self,desx,desy):\n",
    "        self._x=desx\n",
    "        self._y=desy\n",
    "    def move_by(self,dstx,dsty):\n",
    "        self._x+=dstx\n",
    "        self._y+=dsty\n",
    "    def dst_to(self,other):\n",
    "        return sqrt((other._x-self._x)**2+(other._y-self._y)**2)\n",
    "    def __str__(self) -> str:  # 对应print方法\n",
    "        return('(%s,%s)' %(self._x,self._y))\n",
    "def main():\n",
    "    p1 = Point(3, 5)\n",
    "    p2 = Point()\n",
    "    print(p1)\n",
    "    print(p2)\n",
    "    p2.move_by(-1, 2)\n",
    "    print(p2)\n",
    "    print(p1.dst_to(p2))\n",
    "\n",
    "\n",
    "if __name__ == '__main__':\n",
    "    main()"
   ]
  },
  {
   "cell_type": "markdown",
   "metadata": {},
   "source": [
    "#  面向对象编程"
   ]
  },
  {
   "cell_type": "code",
   "execution_count": 13,
   "metadata": {},
   "outputs": [
    {
     "name": "stdout",
     "output_type": "stream",
     "text": [
      "Susan 正在玩斗地主.\n",
      "Susan 正在玩飞行棋.\n"
     ]
    }
   ],
   "source": [
    "# @property 使用@property包装器来包装getter和setter方法，使得对属性的访问既安全又方便，代码如下所示。\n",
    "class Person(object):\n",
    "    def __init__(self,name,age) :\n",
    "        self._name=name\n",
    "        self.age=age\n",
    "    \n",
    "    @property\n",
    "    def name(self):\n",
    "        return self._name\n",
    "    \n",
    "    @property\n",
    "    def age(self):\n",
    "        return self._age\n",
    "    \n",
    "    @age.setter\n",
    "    def age(self,age):\n",
    "        self._age=age\n",
    "    @name.setter\n",
    "    def name(self,name):\n",
    "        self._name=name\n",
    "    \n",
    "    def play(self):\n",
    "        print('%s 正在玩飞行棋.'% (self._name)) if self._age<=16 else print('%s 正在玩斗地主.'% (self._name)) \n",
    "def main():\n",
    "    person=Person('Susan',20)\n",
    "    person.play()\n",
    "    person.age=12\n",
    "    person.play()\n",
    "if __name__=='__main__':\n",
    "    main()"
   ]
  },
  {
   "cell_type": "code",
   "execution_count": 30,
   "metadata": {},
   "outputs": [
    {
     "name": "stdout",
     "output_type": "stream",
     "text": [
      "王大锤正在玩斗地主.\n"
     ]
    }
   ],
   "source": [
    "# __slots__\n",
    "#限定当前类绑定的对象\n",
    "class Person(object):\n",
    "    __slots__=('_name','_age','_gender')\n",
    "    def __init__(self,name,age) -> None:\n",
    "        self._name=name\n",
    "        self._age=age\n",
    "    @property\n",
    "    def name(self):\n",
    "        return self._name\n",
    "    @property\n",
    "    def age(self):\n",
    "        return self._age\n",
    "    @age.setter\n",
    "    def age(self,age):\n",
    "        self._age=age\n",
    "    def play(self):\n",
    "        if self._age <= 16:\n",
    "            print('%s正在玩飞行棋.' % self._name)\n",
    "        else:\n",
    "            print('%s正在玩斗地主.' % self._name)\n",
    "def main():\n",
    "    person = Person('王大锤', 22)\n",
    "    person.play()\n",
    "    person._gender = '男'\n",
    "    person._age = 16\n",
    "    # AttributeError: 'Person' object has no attribute '_is_gay'\n",
    "    #person._is_gay = True \n",
    "main()"
   ]
  },
  {
   "cell_type": "code",
   "execution_count": 33,
   "metadata": {},
   "outputs": [
    {
     "name": "stdout",
     "output_type": "stream",
     "text": [
      "19\n",
      "9.807522622966516\n"
     ]
    }
   ],
   "source": [
    "#静态方法@staticmethod\n",
    "#静态方法属于类，而不属于对象，可以在对象为创建的时候调用静态方法\n",
    "from math import sqrt\n",
    "class Triangle():\n",
    "    def __init__(self,a,b,c) -> None:\n",
    "        self._a=a\n",
    "        self._b=b\n",
    "        self._c=c\n",
    "    @staticmethod\n",
    "    def is_valid(a,b,c):\n",
    "        return a+b>c and b+c>a and a+c>b\n",
    "    def perimeter(self):\n",
    "        return self._a+self._b+self._c\n",
    "    def area(self):\n",
    "        half = self.perimeter() / 2\n",
    "        return sqrt(half * (half - self._a) *\n",
    "                    (half - self._b) * (half - self._c))\n",
    "def main():\n",
    "    a, b, c = 9, 5, 5\n",
    "    #a, b, c = 9,3, 5\n",
    "    # 静态方法和类方法都是通过给类发消息来调用的\n",
    "    if Triangle.is_valid(a, b, c):\n",
    "        t = Triangle(a, b, c)\n",
    "        print(t.perimeter())\n",
    "        # 也可以通过给类发消息来调用对象方法但是要传入接收消息的对象作为参数\n",
    "        # print(Triangle.perimeter(t))\n",
    "        print(t.area())\n",
    "        # print(Triangle.area(t))\n",
    "    else:\n",
    "        print('无法构成三角形.')\n",
    "\n",
    "\n",
    "if __name__ == '__main__':\n",
    "    main()   "
   ]
  },
  {
   "cell_type": "markdown",
   "metadata": {},
   "source": [
    "#@类方法 classmethod"
   ]
  },
  {
   "cell_type": "code",
   "execution_count": 35,
   "metadata": {},
   "outputs": [
    {
     "name": "stdout",
     "output_type": "stream",
     "text": [
      "22:37:54\n",
      "22:37:55\n",
      "22:37:56\n",
      "22:37:57\n",
      "22:37:58\n",
      "22:37:59\n"
     ]
    },
    {
     "ename": "",
     "evalue": "",
     "output_type": "error",
     "traceback": [
      "\u001b[1;31mCannot execute code, session has been disposed. Please try restarting the Kernel."
     ]
    },
    {
     "ename": "",
     "evalue": "",
     "output_type": "error",
     "traceback": [
      "\u001b[1;31mThe Kernel crashed while executing code in the the current cell or a previous cell. Please review the code in the cell(s) to identify a possible cause of the failure. Click <a href='https://aka.ms/vscodeJupyterKernelCrash'>here</a> for more info. View Jupyter <a href='command:jupyter.viewOutput'>log</a> for further details."
     ]
    }
   ],
   "source": [
    "#@类方法 classmethod\n",
    "from time import time,localtime,sleep\n",
    "class Clock(object):\n",
    "    def __init__(self,hour=0,minute=0,secoud=0) -> None:\n",
    "        self._hour=hour\n",
    "        self._minute=minute\n",
    "        self._second=secoud\n",
    "    @classmethod\n",
    "    def now(cls):\n",
    "        ctime=localtime(time())\n",
    "        return cls(ctime.tm_hour,ctime.tm_min,ctime.tm_sec)\n",
    "    def run(self):\n",
    "        \"\"\"走字\"\"\"\n",
    "        self._second += 1\n",
    "        if self._second == 60:\n",
    "            self._second = 0\n",
    "            self._minute += 1\n",
    "            if self._minute == 60:\n",
    "                self._minute = 0\n",
    "                self._hour += 1\n",
    "                if self._hour == 24:\n",
    "                    self._hour = 0    \n",
    "    def show(self):\n",
    "        \"\"\"显示时间\"\"\"\n",
    "        return '%02d:%02d:%02d' % \\\n",
    "               (self._hour, self._minute, self._second)  \n",
    "def main():\n",
    "    # 通过类方法创建对象并获取系统时间\n",
    "    clock = Clock.now()\n",
    "    while True:\n",
    "        print(clock.show())\n",
    "        sleep(1)\n",
    "        clock.run()\n",
    "\n",
    "\n",
    "if __name__ == '__main__':\n",
    "    main()  "
   ]
  },
  {
   "cell_type": "code",
   "execution_count": 1,
   "metadata": {},
   "outputs": [
    {
     "name": "stdout",
     "output_type": "stream",
     "text": [
      "初三的王大锤正在学习数学.\n",
      "王大锤只能观看《熊出没》.\n",
      "骆昊砖家正在讲Python程序设计.\n",
      "骆昊正在观看爱情动作片.\n"
     ]
    }
   ],
   "source": [
    "# 继承和多态\n",
    "class Person(object):\n",
    "    \"\"\"人\"\"\"\n",
    "\n",
    "    def __init__(self, name, age):\n",
    "        self._name = name\n",
    "        self._age = age\n",
    "\n",
    "    @property\n",
    "    def name(self):\n",
    "        return self._name\n",
    "\n",
    "    @property\n",
    "    def age(self):\n",
    "        return self._age\n",
    "\n",
    "    @age.setter\n",
    "    def age(self, age):\n",
    "        self._age = age\n",
    "\n",
    "    def play(self):\n",
    "        print('%s正在愉快的玩耍.' % self._name)\n",
    "\n",
    "    def watch_av(self):\n",
    "        if self._age >= 18:\n",
    "            print('%s正在观看爱情动作片.' % self._name)\n",
    "        else:\n",
    "            print('%s只能观看《熊出没》.' % self._name)\n",
    "\n",
    "\n",
    "class Student(Person):\n",
    "    \"\"\"学生\"\"\"\n",
    "\n",
    "    def __init__(self, name, age, grade):\n",
    "        super().__init__(name, age)\n",
    "        self._grade = grade\n",
    "\n",
    "    @property\n",
    "    def grade(self):\n",
    "        return self._grade\n",
    "\n",
    "    @grade.setter\n",
    "    def grade(self, grade):\n",
    "        self._grade = grade\n",
    "\n",
    "    def study(self, course):\n",
    "        print('%s的%s正在学习%s.' % (self._grade, self._name, course))\n",
    "\n",
    "\n",
    "class Teacher(Person):\n",
    "    \"\"\"老师\"\"\"\n",
    "\n",
    "    def __init__(self, name, age, title):\n",
    "        super().__init__(name, age)\n",
    "        self._title = title\n",
    "\n",
    "    @property\n",
    "    def title(self):\n",
    "        return self._title\n",
    "\n",
    "    @title.setter\n",
    "    def title(self, title):\n",
    "        self._title = title\n",
    "\n",
    "    def teach(self, course):\n",
    "        print('%s%s正在讲%s.' % (self._name, self._title, course))\n",
    "\n",
    "\n",
    "def main():\n",
    "    stu = Student('王大锤', 15, '初三')\n",
    "    stu.study('数学')\n",
    "    stu.watch_av()\n",
    "    t = Teacher('骆昊', 38, '砖家')\n",
    "    t.teach('Python程序设计')\n",
    "    t.watch_av()\n",
    "\n",
    "\n",
    "if __name__ == '__main__':\n",
    "    main()"
   ]
  },
  {
   "cell_type": "code",
   "execution_count": 4,
   "metadata": {},
   "outputs": [
    {
     "name": "stdout",
     "output_type": "stream",
     "text": [
      "旺财: 汪汪汪...\n",
      "凯蒂: 喵...喵...\n",
      "大黄: 汪汪汪...\n"
     ]
    }
   ],
   "source": [
    "#多态：实现同一个函数的不同版本\n",
    "from abc import ABCMeta, abstractmethod\n",
    "\n",
    "\n",
    "class Pet(object, metaclass=ABCMeta):\n",
    "    \"\"\"宠物\"\"\"\n",
    "\n",
    "    def __init__(self, nickname):\n",
    "        self._nickname = nickname\n",
    "\n",
    "    @abstractmethod\n",
    "    def make_voice(self):\n",
    "        \"\"\"发出声音\"\"\"\n",
    "        print('%s: 叫叫...' % self._nickname)\n",
    "\n",
    "\n",
    "class Dog(Pet):\n",
    "    \"\"\"狗\"\"\"\n",
    "\n",
    "    def make_voice(self):\n",
    "        print('%s: 汪汪汪...' % self._nickname)\n",
    "\n",
    "\n",
    "class Cat(Pet):\n",
    "    \"\"\"猫\"\"\"\n",
    "\n",
    "    def make_voice(self):\n",
    "        print('%s: 喵...喵...' % self._nickname)\n",
    "\n",
    "\n",
    "def main():\n",
    "    pets = [Dog('旺财'), Cat('凯蒂'), Dog('大黄')]\n",
    "    for pet in pets:\n",
    "        pet.make_voice()\n",
    "\n",
    "\n",
    "if __name__ == '__main__':\n",
    "    main()"
   ]
  },
  {
   "cell_type": "code",
   "execution_count": null,
   "metadata": {},
   "outputs": [],
   "source": [
    "from abc import ABCMeta, abstractmethod\n",
    "from random import randint, randrange\n",
    "\n",
    "##定义斗士\n",
    "class Fighter(object,metaclass=ABCMeta):\n",
    "    ##使用__slots__限制对象属性\n",
    "    __slots__=('_name','_hp')\n",
    "\n",
    "    ##初始化方法\n",
    "    def __init__(self,name,hp) -> None:\n",
    "        self._name=name\n",
    "        self._hp=hp\n",
    "    @property\n",
    "    def name(self):\n",
    "        return self._name\n",
    "    @property\n",
    "    def hp(self):\n",
    "        return self._hp\n",
    "    @hp.setter\n",
    "    def hp(self,hp):\n",
    "        self._hp=hp\n",
    "    @property \n",
    "    def alive(self):\n",
    "        return self._hp>0\n",
    "    @abstractmethod\n",
    "    def attack(self,other):\n",
    "        pass\n",
    "#定义奥特曼\n",
    "class Ultraman(Fighter):\n",
    "    __slots__=('_name','_hp','_mp')\n",
    "    \"\"\"初始化方法\n",
    "\n",
    "        :param name: 名字\n",
    "        :param hp: 生命值\n",
    "        :param mp: 魔法值\n",
    "    \"\"\"\n",
    "\n",
    "    def __init__(self, name, hp,mp) -> None:\n",
    "        super().__init__(name, hp)\n",
    "        self._mp=mp\n",
    "    def attack(self, other):\n",
    "        other.hp-=randint(15,25)\n",
    "    def huge_attack(self,other):\n",
    "        if self._mp>=50:\n",
    "            self._mp-=50\n",
    "            injury=other.hp*3//4\n",
    "            injury=injury if injury>50 else 50\n",
    "            other.hp-=injury\n",
    "            return True\n",
    "        else:\n",
    "            self.attack(other)\n",
    "            return False"
   ]
  }
 ],
 "metadata": {
  "kernelspec": {
   "display_name": "Python 3",
   "language": "python",
   "name": "python3"
  },
  "language_info": {
   "codemirror_mode": {
    "name": "ipython",
    "version": 3
   },
   "file_extension": ".py",
   "mimetype": "text/x-python",
   "name": "python",
   "nbconvert_exporter": "python",
   "pygments_lexer": "ipython3",
   "version": "3.11.4"
  },
  "orig_nbformat": 4
 },
 "nbformat": 4,
 "nbformat_minor": 2
}
