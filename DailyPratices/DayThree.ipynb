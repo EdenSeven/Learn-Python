{
 "cells": [
  {
   "cell_type": "code",
   "execution_count": 9,
   "metadata": {},
   "outputs": [
    {
     "name": "stdout",
     "output_type": "stream",
     "text": [
      "(3,5)\n",
      "(0,0)\n",
      "(-1,2)\n",
      "5.0\n"
     ]
    }
   ],
   "source": [
    "#练习：定义一个类描述平面上的点并提供移动点和计算到另外一个点距离的方法\n",
    "from math import sqrt\n",
    "class Point():\n",
    "    def __init__(self,x=0,y=0) -> None:\n",
    "        self._x=x\n",
    "        self._y=y\n",
    "    def move_to(self,desx,desy):\n",
    "        self._x=desx\n",
    "        self._y=desy\n",
    "    def move_by(self,dstx,dsty):\n",
    "        self._x+=dstx\n",
    "        self._y+=dsty\n",
    "    def dst_to(self,other):\n",
    "        return sqrt((other._x-self._x)**2+(other._y-self._y)**2)\n",
    "    def __str__(self) -> str:  # 对应print方法\n",
    "        return('(%s,%s)' %(self._x,self._y))\n",
    "def main():\n",
    "    p1 = Point(3, 5)\n",
    "    p2 = Point()\n",
    "    print(p1)\n",
    "    print(p2)\n",
    "    p2.move_by(-1, 2)\n",
    "    print(p2)\n",
    "    print(p1.dst_to(p2))\n",
    "\n",
    "\n",
    "if __name__ == '__main__':\n",
    "    main()"
   ]
  },
  {
   "cell_type": "markdown",
   "metadata": {},
   "source": [
    "#  面向对象编程"
   ]
  },
  {
   "cell_type": "code",
   "execution_count": 13,
   "metadata": {},
   "outputs": [
    {
     "name": "stdout",
     "output_type": "stream",
     "text": [
      "Susan 正在玩斗地主.\n",
      "Susan 正在玩飞行棋.\n"
     ]
    }
   ],
   "source": [
    "# @property 使用@property包装器来包装getter和setter方法，使得对属性的访问既安全又方便，代码如下所示。\n",
    "class Person(object):\n",
    "    def __init__(self,name,age) :\n",
    "        self._name=name\n",
    "        self.age=age\n",
    "    \n",
    "    @property\n",
    "    def name(self):\n",
    "        return self._name\n",
    "    \n",
    "    @property\n",
    "    def age(self):\n",
    "        return self._age\n",
    "    \n",
    "    @age.setter\n",
    "    def age(self,age):\n",
    "        self._age=age\n",
    "    @name.setter\n",
    "    def name(self,name):\n",
    "        self._name=name\n",
    "    \n",
    "    def play(self):\n",
    "        print('%s 正在玩飞行棋.'% (self._name)) if self._age<=16 else print('%s 正在玩斗地主.'% (self._name)) \n",
    "def main():\n",
    "    person=Person('Susan',20)\n",
    "    person.play()\n",
    "    person.age=12\n",
    "    person.play()\n",
    "if __name__=='__main__':\n",
    "    main()"
   ]
  },
  {
   "cell_type": "code",
   "execution_count": 30,
   "metadata": {},
   "outputs": [
    {
     "name": "stdout",
     "output_type": "stream",
     "text": [
      "王大锤正在玩斗地主.\n"
     ]
    }
   ],
   "source": [
    "# __slots__\n",
    "#限定当前类绑定的对象\n",
    "class Person(object):\n",
    "    __slots__=('_name','_age','_gender')\n",
    "    def __init__(self,name,age) -> None:\n",
    "        self._name=name\n",
    "        self._age=age\n",
    "    @property\n",
    "    def name(self):\n",
    "        return self._name\n",
    "    @property\n",
    "    def age(self):\n",
    "        return self._age\n",
    "    @age.setter\n",
    "    def age(self,age):\n",
    "        self._age=age\n",
    "    def play(self):\n",
    "        if self._age <= 16:\n",
    "            print('%s正在玩飞行棋.' % self._name)\n",
    "        else:\n",
    "            print('%s正在玩斗地主.' % self._name)\n",
    "def main():\n",
    "    person = Person('王大锤', 22)\n",
    "    person.play()\n",
    "    person._gender = '男'\n",
    "    person._age = 16\n",
    "    # AttributeError: 'Person' object has no attribute '_is_gay'\n",
    "    #person._is_gay = True \n",
    "main()"
   ]
  },
  {
   "cell_type": "code",
   "execution_count": 33,
   "metadata": {},
   "outputs": [
    {
     "name": "stdout",
     "output_type": "stream",
     "text": [
      "19\n",
      "9.807522622966516\n"
     ]
    }
   ],
   "source": [
    "#静态方法和类方法 @staticmethod\n",
    "#静态方法属于类，而不属于对象\n",
    "from math import sqrt\n",
    "class Triangle():\n",
    "    def __init__(self,a,b,c) -> None:\n",
    "        self._a=a\n",
    "        self._b=b\n",
    "        self._c=c\n",
    "    @staticmethod\n",
    "    def is_valid(a,b,c):\n",
    "        return a+b>c and b+c>a and a+c>b\n",
    "    def perimeter(self):\n",
    "        return self._a+self._b+self._c\n",
    "    def area(self):\n",
    "        half = self.perimeter() / 2\n",
    "        return sqrt(half * (half - self._a) *\n",
    "                    (half - self._b) * (half - self._c))\n",
    "def main():\n",
    "    a, b, c = 9, 5, 5\n",
    "    #a, b, c = 9,3, 5\n",
    "    # 静态方法和类方法都是通过给类发消息来调用的\n",
    "    if Triangle.is_valid(a, b, c):\n",
    "        t = Triangle(a, b, c)\n",
    "        print(t.perimeter())\n",
    "        # 也可以通过给类发消息来调用对象方法但是要传入接收消息的对象作为参数\n",
    "        # print(Triangle.perimeter(t))\n",
    "        print(t.area())\n",
    "        # print(Triangle.area(t))\n",
    "    else:\n",
    "        print('无法构成三角形.')\n",
    "\n",
    "\n",
    "if __name__ == '__main__':\n",
    "    main()   "
   ]
  }
 ],
 "metadata": {
  "kernelspec": {
   "display_name": "Python 3",
   "language": "python",
   "name": "python3"
  },
  "language_info": {
   "codemirror_mode": {
    "name": "ipython",
    "version": 3
   },
   "file_extension": ".py",
   "mimetype": "text/x-python",
   "name": "python",
   "nbconvert_exporter": "python",
   "pygments_lexer": "ipython3",
   "version": "3.11.4"
  },
  "orig_nbformat": 4
 },
 "nbformat": 4,
 "nbformat_minor": 2
}
