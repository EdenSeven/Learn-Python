{
 "cells": [
  {
   "cell_type": "code",
   "execution_count": 7,
   "metadata": {},
   "outputs": [
    {
     "name": "stdout",
     "output_type": "stream",
     "text": [
      "洛昊 is learning Python\n",
      "Eric只能观看《熊出没》.\n"
     ]
    }
   ],
   "source": [
    "# 类\n",
    "class Student(object):\n",
    "    def __init__(self,name,age):\n",
    "        self.name=name\n",
    "        self.age=age\n",
    "    def study(self,course_name):\n",
    "        #print('%s正在学习%s.' % (self.name, course_name))\n",
    "        print(f'{self.name} is learning {course_name}')\n",
    "    def watch_movie(self):\n",
    "        if self.age < 18:\n",
    "            print('%s只能观看《熊出没》.' % self.name)\n",
    "        else:\n",
    "            print('%s正在观看adult大电影.' % self.name) \n",
    "def main():\n",
    "    stu1=Student('洛昊',38)\n",
    "    stu2=Student('Eric',13)\n",
    "    stu1.study('Python')\n",
    "    stu2.watch_movie()\n",
    "if __name__=='__main__':\n",
    "    main()"
   ]
  },
  {
   "cell_type": "code",
   "execution_count": 12,
   "metadata": {},
   "outputs": [
    {
     "name": "stdout",
     "output_type": "stream",
     "text": [
      "hello\n",
      "__bar\n"
     ]
    }
   ],
   "source": [
    "#类的可见性\n",
    "class Test:\n",
    "    def __init__(self,foo) -> None:\n",
    "        self.__foo=foo\n",
    "    def bar(self):\n",
    "        print(self.__foo)\n",
    "        print('__bar')\n",
    "test=Test('hello')\n",
    "test.bar() \n",
    "#print(test.__foo)"
   ]
  },
  {
   "cell_type": "code",
   "execution_count": 13,
   "metadata": {},
   "outputs": [
    {
     "name": "stdout",
     "output_type": "stream",
     "text": [
      "hello\n",
      "__bar\n",
      "hello\n"
     ]
    }
   ],
   "source": [
    "#访问私有变量的方法\n",
    "class Test:\n",
    "\n",
    "    def __init__(self, foo):\n",
    "        self.__foo = foo\n",
    "\n",
    "    def __bar(self):\n",
    "        print(self.__foo)\n",
    "        print('__bar')\n",
    "\n",
    "\n",
    "def main():\n",
    "    test = Test('hello')\n",
    "    test._Test__bar()\n",
    "    print(test._Test__foo)\n",
    "\n",
    "\n",
    "if __name__ == \"__main__\":\n",
    "    main()"
   ]
  },
  {
   "cell_type": "code",
   "execution_count": 21,
   "metadata": {},
   "outputs": [
    {
     "name": "stdout",
     "output_type": "stream",
     "text": [
      "00:00:00\n",
      "00:00:01\n",
      "00:00:02\n",
      "00:00:03\n",
      "00:00:04\n"
     ]
    },
    {
     "ename": "KeyboardInterrupt",
     "evalue": "",
     "output_type": "error",
     "traceback": [
      "\u001b[1;31m---------------------------------------------------------------------------\u001b[0m",
      "\u001b[1;31mKeyboardInterrupt\u001b[0m                         Traceback (most recent call last)",
      "Cell \u001b[1;32mIn[21], line 29\u001b[0m\n\u001b[0;32m     27\u001b[0m         sleep(\u001b[39m1\u001b[39m)\n\u001b[0;32m     28\u001b[0m \u001b[39mif\u001b[39;00m \u001b[39m__name__\u001b[39m\u001b[39m==\u001b[39m\u001b[39m'\u001b[39m\u001b[39m__main__\u001b[39m\u001b[39m'\u001b[39m:\n\u001b[1;32m---> 29\u001b[0m     main()\n",
      "Cell \u001b[1;32mIn[21], line 27\u001b[0m, in \u001b[0;36mmain\u001b[1;34m()\u001b[0m\n\u001b[0;32m     25\u001b[0m system(\u001b[39m'\u001b[39m\u001b[39mcls\u001b[39m\u001b[39m'\u001b[39m)\n\u001b[0;32m     26\u001b[0m clk\u001b[39m.\u001b[39mshow()\n\u001b[1;32m---> 27\u001b[0m sleep(\u001b[39m1\u001b[39;49m)\n",
      "\u001b[1;31mKeyboardInterrupt\u001b[0m: "
     ]
    }
   ],
   "source": [
    "#练习1：定义一个类描述数字时钟。\n",
    "from time import sleep\n",
    "from os import system\n",
    "class Clock:\n",
    "    def __init__(self,hour=0,minute=0,second=0) -> None:\n",
    "        Clock._hour=hour\n",
    "        Clock._minute=minute\n",
    "        Clock._second=second\n",
    "    def run(self):\n",
    "        self._second+=1\n",
    "        if self._second==60:\n",
    "            self._second=0\n",
    "            self._minute+=1\n",
    "            if self._minute==60:\n",
    "                self._hour+=1\n",
    "                self._minute=0\n",
    "                if self._hour==24:\n",
    "                    self._hour=0\n",
    "    def show(self):\n",
    "        print('%02d:%02d:%02d'% (self._hour,self._minute,self._second))\n",
    "def main():\n",
    "    clk=Clock(23,59,59)\n",
    "    while True:\n",
    "        clk.run()\n",
    "        system('cls')\n",
    "        clk.show()\n",
    "        sleep(1)\n",
    "if __name__=='__main__':\n",
    "    main()\n",
    "            \n",
    "        "
   ]
  }
 ],
 "metadata": {
  "kernelspec": {
   "display_name": "Python 3",
   "language": "python",
   "name": "python3"
  },
  "language_info": {
   "codemirror_mode": {
    "name": "ipython",
    "version": 3
   },
   "file_extension": ".py",
   "mimetype": "text/x-python",
   "name": "python",
   "nbconvert_exporter": "python",
   "pygments_lexer": "ipython3",
   "version": "3.11.4"
  },
  "orig_nbformat": 4
 },
 "nbformat": 4,
 "nbformat_minor": 2
}
